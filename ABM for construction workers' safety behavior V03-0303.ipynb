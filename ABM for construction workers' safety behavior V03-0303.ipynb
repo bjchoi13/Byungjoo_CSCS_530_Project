{
 "cells": [
  {
   "cell_type": "markdown",
   "metadata": {},
   "source": [
    "## Modeling Effect of Group Norms and Social Identities on Construction Workers' Safety Behavior\n",
    "\n",
    "This project aims to investigate the effect of group norms and social identities by developing ABM which represents of social influence and social identification regarding construction workers’ safety behavior."
   ]
  },
  {
   "cell_type": "markdown",
   "metadata": {},
   "source": [
    "###I. Space\n",
    "In this model, the space will be a two-dimensional (2D) rectangular grid. Each grid will be occupied by only one people (workers or managers). Edges of the grid will wrap around. In addition, there are some clusters in the space which means a space for specific crew."
   ]
  },
  {
   "cell_type": "markdown",
   "metadata": {},
   "source": [
    "### II. Agent\n",
    "####   A. Worker\n",
    "The main concern in this model effect of group norms and social identities on construction workers' safety behavior. The expanded theory of planned behavior will be used for workers' behavioral rule.\n",
    "\n",
    "** Properties **\n",
    "\n",
    "* Safety behavior; individual's level of safety behavior;  0 - 1 (unsafe - safe)\n",
    "* Intention; Individual's willingness to perform a specific behavior;  0 - 1 (unsafe - safe)\n",
    "* PBC (Perceived Behavioral Control); Individuals' perception on their ability to perform a specific behavior; 0 - 1 (easy - difficult)\n",
    "* Personal Attitude; Individual's evaluation on a specific behavior; 0 - 1 (unsafe - safe)\n",
    "* Perceived Workgroup Norm; the result of observing behaviors others in their crew.\n",
    "* Perceived Project Norm ; the result of observing other crew members' behavior and managers' feedback \n",
    "\n",
    "* Crew based social identity; Individual's level of social identification with their crew membership ; 0 - 1\n",
    "* Project based social identity; Individual's level of social identification with their project membership; 0 - 1\n",
    "* Norm compliance : Individual's level of complying to group norms\n",
    "* Internalization : Individual's level of internalizing the group norms as their own attitude\n",
    "* Memory capacity : Individual's capacity of memory to remember others' behavior\n",
    "\n",
    "* Weight for attitude\n",
    "* Weight for Intention\n",
    "\n",
    "* Remembered workgroup behavior: List of workgroup members' behaviors remembered by the worker\n",
    "* Remembered project behavior: List of other workgroup members' behaviors or managers' feedback remembered by the worker\n",
    "\n",
    "\n",
    "For their step function, the workers will perform followings:\n",
    "  * Observing other workers' behavior and managers' feedback and perceiving the workgroup norm and project norm\n",
    "  * Forming behavioral intention based on precived group norms, personal attitude, social identities and PBC.\n",
    "  * Internalizing the group norms as their own attitude\n",
    "  * Taking behaviors based on behavioral intention and PBC\n",
    "  \n",
    "#### B. Manager\n",
    "The managers will give a feedback to workers based on strictness of safety rule. "
   ]
  },
  {
   "cell_type": "markdown",
   "metadata": {
    "collapsed": true
   },
   "source": [
    "### III. Initial Conditions"
   ]
  },
  {
   "cell_type": "markdown",
   "metadata": {},
   "source": [
    "###IV. Model Parameters\n",
    "Based on the description above, the model need the following parameters:\n",
    "* grid_x: length of grid\n",
    "* grid_y: height of grid\n",
    "* num_workers: number of workers in one crew\n",
    "* num_crews: number of crews in the project\n",
    "* grid_size_for_crew\n",
    "* overlaps_between_crew_grid\n",
    "* num_managers; it means the frequency of safety inspection by managers in the project\n",
    "* min_project_identity, max_project_identity; the lower and upper bound of project based identity\n",
    "* weight_attitude_intention\n",
    "* weight_perceived_norm_intention\n",
    "* weight_PBC_intention\n",
    "* weight_PBC_Behavior\n",
    "* strictness_safety_rule"
   ]
  },
  {
   "cell_type": "code",
   "execution_count": 52,
   "metadata": {
    "collapsed": false
   },
   "outputs": [
    {
     "name": "stderr",
     "output_type": "stream",
     "text": [
      ":0: FutureWarning: IPython widgets are experimental and may change in the future.\n"
     ]
    }
   ],
   "source": [
    "%matplotlib inline\n",
    "\n",
    "# Standard imports\n",
    "import copy\n",
    "import itertools\n",
    "\n",
    "# Scientific computing imports\n",
    "import numpy\n",
    "import matplotlib.pyplot as plt\n",
    "import networkx\n",
    "import pandas\n",
    "import seaborn; seaborn.set()\n",
    "\n",
    "# Import widget methods\n",
    "from IPython.html.widgets import *"
   ]
  },
  {
   "cell_type": "code",
   "execution_count": 53,
   "metadata": {
    "collapsed": true
   },
   "outputs": [],
   "source": [
    "class Worker (object):\n",
    "    \"\"\" Worker class, which encapsulate the safety behavior of a worker\n",
    "    \"\"\"\n",
    "    def __init__(self, model, worker_id, crew_type, safety_behavior=0.5, intention=0.5, perceived_behavioral_control=0.5, \n",
    "                 attitude=0.5, perceived_workgroup_norm = 0.5, perceived_project_norm = 0.5,crew_identity = 0.5, \n",
    "                 project_identity=0.5, norm_compliance = 0.25, internalization = 0.1, memory_capa = 30, weight_attitude = 0.8,\n",
    "                 weight_intention = 0.8):\n",
    "        \"\"\" Constructor for worker class.\n",
    "            No default\n",
    "            Note that this class must link to parent Model object\n",
    "        \"\"\"\n",
    "        \n",
    "        # Set model and link and ID\n",
    "        self.model = model\n",
    "        self.worker_id = worker_id\n",
    "        self.crew_type = crew_type\n",
    "        \n",
    "        # Set Worker Parameters\n",
    "        self.safety_behavior = safety_behavior\n",
    "        self.intention = intention\n",
    "        self.perceived_behavioral_control = perceived_behavioral_control\n",
    "        self.attitude = attitude\n",
    "        self.perceived_workgroup_norm = perceived_workgroup_norm\n",
    "        self.perceived_project_norm = perceived_project_norm\n",
    "        \n",
    "        self.crew_identity = crew_identity\n",
    "        self.project_identity = project_identity\n",
    "        \n",
    "        self.norm_compliance = norm_compliance\n",
    "        self.internalization = internalization\n",
    "        self.memory_capa = memory_capa\n",
    "        \n",
    "        self.weight_attitude = weight_attitude\n",
    "        self.weight_intention = weight_intention\n",
    "        self.remembered_workgroup_behavior = []\n",
    "        self.remembered_project_behavior = []\n",
    "    \n",
    "    def behavior_taking(self):\n",
    "        \"\"\"\n",
    "        Decide the level of safety behavior\n",
    "        \"\"\"\n",
    "        self.safety_behavior = self.weight_intention*self.intention+(1-self.weight_intention)*self.perceived_behavioral_control\n",
    "        return \n",
    "    \n",
    "    def intention_forming(self):\n",
    "        \"\"\"\n",
    "        Forming the behavioral intention\n",
    "        \"\"\"\n",
    "        self.social_influence = self.norm_compliance*(self.crew_identity+self.project_identity)\n",
    "        self.intention=(self.weight_attitude*self.attitude+(1-self.weight_attitude)*self.perceived_behavioral_control)*(1-self.social_influence)+self.norm_compliance*(self.crew_identity*self.perceived_workgroup_norm+self.project_identity*self.perceived_project_norm)   \n",
    "        return \n",
    "    \n",
    "    def attitude_changeing(self):\n",
    "        \"\"\"\n",
    "        Intenralizing group norms as their own attitude\n",
    "        \"\"\"\n",
    "        self.internalize_influence = self.internalization*(self.crew_identity+self.project_identity)\n",
    "        self.attitude = self.attitude*(1-self.internalize_influence)+self.internalization*(self.crew_identity*self.perceived_workgroup_norm + self.project_identity*self.perceived_project_norm)\n",
    "        return\n",
    "\n",
    "    def get_position(self):\n",
    "        \"\"\"\n",
    "        Return position, calling through model\n",
    "        \"\"\"\n",
    "        return self.model.get_worker_position(self.worker_id)\n",
    "    \n",
    "    def get_neighbors(self):\n",
    "        \"\"\"\n",
    "        Return neighbors, calling through model\n",
    "        \"\"\"\n",
    "        return self.model.get_worker_neighbors(self.worker_id)"
   ]
  },
  {
   "cell_type": "code",
   "execution_count": 51,
   "metadata": {
    "collapsed": false
   },
   "outputs": [
    {
     "name": "stdout",
     "output_type": "stream",
     "text": [
      "<__main__.Worker object at 0x000000000406CCF8>\n",
      "1\n",
      "0.5\n",
      "0.5\n",
      "0.5\n",
      "0.5\n",
      "0.5\n",
      "0.5\n",
      "0.5\n",
      "0.25\n",
      "0.1\n",
      "30\n",
      "0.8\n",
      "0.8\n",
      "[]\n",
      "[]\n",
      "\n",
      "0.5\n",
      "0.5\n",
      "0.5\n",
      "0.5\n"
     ]
    }
   ],
   "source": [
    "class Model(object):\n",
    "    bj = Worker(1,1,1,1)\n",
    "    print bj\n",
    "    print bj.safety_behavior\n",
    "    print bj.intention\n",
    "    print bj.perceived_behavioral_control\n",
    "    print bj.attitude\n",
    "    print bj.perceived_workgroup_norm\n",
    "    print bj.perceived_project_norm\n",
    "    print bj.crew_identity\n",
    "    print bj.project_identity\n",
    "    print bj.norm_compliance\n",
    "    print bj.internalization\n",
    "    print bj.memory_capa\n",
    "    \n",
    "    print bj.weight_attitude\n",
    "    print bj.weight_intention\n",
    "    \n",
    "    print bj.remembered_workgroup_behavior\n",
    "    print bj.remembered_project_behavior\n",
    "    \n",
    "    \n",
    "    bj.behavior_taking()\n",
    "    bj.intention_forming()\n",
    "    bj.attitude_changeing()\n",
    "    print \n",
    "    print bj.safety_behavior\n",
    "    print bj.attitude\n",
    "    print bj.intention\n",
    "    print bj.project_identity "
   ]
  },
  {
   "cell_type": "code",
   "execution_count": 44,
   "metadata": {
    "collapsed": true
   },
   "outputs": [],
   "source": []
  },
  {
   "cell_type": "code",
   "execution_count": null,
   "metadata": {
    "collapsed": true
   },
   "outputs": [],
   "source": []
  }
 ],
 "metadata": {
  "kernelspec": {
   "display_name": "Python 2",
   "name": "python2"
  },
  "language_info": {
   "codemirror_mode": {
    "name": "ipython",
    "version": 2
   },
   "file_extension": ".py",
   "mimetype": "text/x-python",
   "name": "python",
   "nbconvert_exporter": "python",
   "pygments_lexer": "ipython2",
   "version": "2.7.8"
  }
 },
 "nbformat": 4,
 "nbformat_minor": 0
}
