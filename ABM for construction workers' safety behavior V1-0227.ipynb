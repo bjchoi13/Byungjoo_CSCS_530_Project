{
 "cells": [
  {
   "cell_type": "markdown",
   "metadata": {},
   "source": [
    "## Effect of Group Norms and Social Identities on Construction Workers' Safety Behavior\n",
    "\n",
    "This project aims to investigate the effect of group norms and social identities by developing ABM which represents of social influence and social identification regarding construction workers’ safety behavior."
   ]
  },
  {
   "cell_type": "markdown",
   "metadata": {},
   "source": [
    "###I. Space\n",
    "In this model, the space will be a two-dimensional (2D) square grid. Each grid will be occupied by only one people (workers or managers). Edges of the grid will wrap around. In addition, there are some clusters in the space which means a space for specific crew.\n",
    "\n",
    "### II. Agent\n",
    "####   A. Worker\n",
    "The main concern in this model effect of group norms and social identities on construction workers' safety behavior. The expanded theory of planned behavior will be used for workers' behavioral rule.\n",
    "\n",
    "** Properties **\n",
    "* Safety behavior; individual's level of safey behavior;  0 - 1 (unsafe - safe)\n",
    "* Intention; Individual's willingness to perform a specific behavior;  0 - 1 (unsafe - safe)\n",
    "* PBC (Perceived Behavioral Control); Individuals' perception on thier ability to perform a specific behavior; 0 - 1 (easy - difficult)\n",
    "* Personal Attitude; Individual's evaluation on a specific behavior; 0 - 1 (unsafe - safe)\n",
    "* Perceived Workgroup Norm; the result of observing behaviors others in their crew.\n",
    "* Perceived Project Norm ; the result of observing other crew members' behavior\n",
    "* Perceived Management Norm ; the result of observing managers' feedback \n",
    "* Crew based social identity; Individual's level of social identification with their crew membership ; 0 - 1\n",
    "* project based social identity; Individual's levle of social identification with their project membership; 0 - 1\n",
    "\n",
    "For their step function, the workers will perform followings:\n",
    "  * Observing other workers' behaviro and perceive workgroup norm and project norm\n",
    "  * Observing manager's feedback and perceive management norm\n",
    "  * Forming behavioral intention based on precived group norms, personal attitude, social identities and PBC.\n",
    "  * Taking behaviors based on behavioral intention and PBC\n",
    "  \n",
    "#### B. Manager\n",
    "The managers "
   ]
  },
  {
   "cell_type": "code",
   "execution_count": null,
   "metadata": {
    "collapsed": true
   },
   "outputs": [],
   "source": []
  }
 ],
 "metadata": {
  "kernelspec": {
   "display_name": "Python 2",
   "name": "python2"
  },
  "language_info": {
   "codemirror_mode": {
    "name": "ipython",
    "version": 2
   },
   "file_extension": ".py",
   "mimetype": "text/x-python",
   "name": "python",
   "nbconvert_exporter": "python",
   "pygments_lexer": "ipython2",
   "version": "2.7.8"
  }
 },
 "nbformat": 4,
 "nbformat_minor": 0
}
