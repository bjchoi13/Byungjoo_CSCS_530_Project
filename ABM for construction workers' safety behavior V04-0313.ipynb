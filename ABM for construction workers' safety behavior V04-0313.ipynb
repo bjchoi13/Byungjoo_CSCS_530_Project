{
 "cells": [
  {
   "cell_type": "markdown",
   "metadata": {},
   "source": [
    "# Effect of Group Norms and Social Identities on Construction Workers' Safety Behavior\n"
   ]
  },
  {
   "cell_type": "markdown",
   "metadata": {},
   "source": [
    "## Goal\n",
    "This project aims to investigate the effect of group norms and social identities by developing ABM which represents of social influence and social identification regarding construction workers’ safety behavior."
   ]
  },
  {
   "cell_type": "markdown",
   "metadata": {},
   "source": [
    "## Justification\n",
    "Although, previous variable based research efforts have some light on the effect of group norms on individual's behavior, the mechanisms underlie the link between social influnece and invidual's behavior are still unclear. In addition, variable-based approach may not be sufficient to consider the characteristics inherent in construction and thus a more comprehensive research methodology is required. To address these issues, we will develop agent based model which has strength in generating complex social phenomena as emerging from individuals’interactions"
   ]
  },
  {
   "cell_type": "markdown",
   "metadata": {},
   "source": [
    "## Process and Mechanism of Interest\n",
    "We are primarily interested in how different range of group norms and social identies affect the construction workers' safety behavior. Additionally, we are also interested in the effect of strict safety rules on the construction workers' safety behavior."
   ]
  },
  {
   "cell_type": "markdown",
   "metadata": {},
   "source": [
    "## Outline\n",
    "* Vary salience of crew based identity\n",
    "* Vary salience of project based identity\n",
    "* Vary strictictness of safety rules\n",
    "* Observer how construction wokrers' safety behaviors are changed.\n"
   ]
  },
  {
   "cell_type": "markdown",
   "metadata": {},
   "source": [
    "##I. Space\n",
    "In this model, the space will be a two-dimensional (2D) rectangular grid. Each grid will be occupied by only one people (workers or managers). Edges of the grid will wrap around. In addition, there are some clusters in the space which means a space for specific crew."
   ]
  },
  {
   "cell_type": "markdown",
   "metadata": {},
   "source": [
    "## II. Agent\n",
    "###   A. Worker\n",
    "The main concern in this model effect of group norms and social identities on construction workers' safety behavior. The expanded theory of planned behavior will be used for workers' behavioral rule.\n",
    "\n",
    "** Properties **\n",
    "\n",
    "* Safety behavior; individual's level of safety behavior;  0 - 1 (unsafe - safe)\n",
    "* Intention; Individual's willingness to perform a specific behavior;  0 - 1 (unsafe - safe)\n",
    "* PBC (Perceived Behavioral Control); Individuals' perception on their ability to perform a specific behavior; 0 - 1 (easy - difficult)\n",
    "* Personal Attitude; Individual's evaluation on a specific behavior; 0 - 1 (unsafe - safe)\n",
    "* Perceived Workgroup Norm; the result of observing behaviors others in their crew.\n",
    "* Perceived Project Norm ; the result of observing other crew members' behavior and managers' feedback \n",
    "\n",
    "* Crew based social identity; Individual's level of social identification with their crew membership ; 0 - 1\n",
    "* Project based social identity; Individual's level of social identification with their project membership; 0 - 1\n",
    "* Norm compliance : Individual's level of complying to group norms\n",
    "* Internalization : Individual's level of internalizing the group norms as their own attitude\n",
    "* Memory capacity : Individual's capacity of memory to remember others' behavior\n",
    "\n",
    "* Weight for attitude\n",
    "* Weight for Intention\n",
    "\n",
    "* Remembered workgroup behavior: List of workgroup members' behaviors remembered by the worker\n",
    "* Remembered project behavior: List of other workgroup members' behaviors or managers' feedback remembered by the worker\n",
    "\n",
    "\n",
    "For their step function, the workers will perform followings:\n",
    "  * Observing other workers' behavior and managers' feedback and perceiving the workgroup norm and project norm\n",
    "  * Forming behavioral intention based on precived group norms, personal attitude, social identities and PBC.\n",
    "  * Internalizing the group norms as their own attitude\n",
    "  * Taking behaviors based on behavioral intention and PBC\n",
    "  \n",
    "### B. Manager\n",
    "The managers will give a feedback to workers based on strictness of safety rule. "
   ]
  },
  {
   "cell_type": "markdown",
   "metadata": {
    "collapsed": true
   },
   "source": [
    "## III. Initial Conditions\n",
    "### A. Worker\n",
    "### B. Manager"
   ]
  },
  {
   "cell_type": "markdown",
   "metadata": {},
   "source": [
    "###IV. Model Parameters\n",
    "Based on the description above, the model need the following parameters:\n",
    "* grid_size_for_crew\n",
    "* overlaps_between_crew_grid\n",
    "* num_workers: number of workers in one crew\n",
    "* num_crews: number of crews in the project\n",
    "* num_managers; it means the frequency of safety inspection by managers in the project\n",
    "* min_project_identity, max_project_identity; the lower and upper bound of project based identity\n",
    "* min_crew_identity, max_crew_identity; the lower and upper bound of crew based identity\n",
    "* weight_attitude\n",
    "* weight_perceived_norm\n",
    "* norm_compliance\n",
    "* internalization\n",
    "* memory_capa\n",
    "* strictness_safety_rule"
   ]
  },
  {
   "cell_type": "code",
   "execution_count": 1,
   "metadata": {
    "collapsed": false
   },
   "outputs": [
    {
     "name": "stderr",
     "output_type": "stream",
     "text": [
      ":0: FutureWarning: IPython widgets are experimental and may change in the future.\n"
     ]
    }
   ],
   "source": [
    "%matplotlib inline\n",
    "\n",
    "# Standard imports\n",
    "import copy\n",
    "import itertools\n",
    "\n",
    "# Scientific computing imports\n",
    "import numpy\n",
    "import matplotlib.pyplot as plt\n",
    "import networkx\n",
    "import pandas\n",
    "import seaborn; seaborn.set()\n",
    "\n",
    "# Import widget methods\n",
    "from IPython.html.widgets import *"
   ]
  },
  {
   "cell_type": "markdown",
   "metadata": {},
   "source": [
    "### Worker Class\n",
    "Below, I will define workere class, This can be broken up as follows:\n",
    "* constructor: class constructor, which initializes the worker when the model call Worker().\n",
    "* behavior taking : Taking behaviors based on behavioral intention and PBC\n",
    "* intention forming : Forming behavioral intention based on precived group norms, personal attitude, social identities and PBC.\n",
    "* internalizing perceived group norm : Internalizing the group norms as their own attitude.    "
   ]
  },
  {
   "cell_type": "code",
   "execution_count": 2,
   "metadata": {
    "collapsed": true
   },
   "outputs": [],
   "source": [
    "class Worker (object):\n",
    "    \"\"\" Worker class, which encapsulate the safety behavior of a worker\n",
    "    \"\"\"\n",
    "    def __init__(self, model, worker_id, crew_type, safety_behavior=0.5, intention=0.5, perceived_behavioral_control=0.5, \n",
    "                 attitude=0.5, perceived_workgroup_norm = 0.5, perceived_project_norm = 0.5,crew_identity = 0.5, \n",
    "                 project_identity=0.5, norm_compliance = 0.25, internalization = 0.1, memory_capa = 30, weight_attitude = 0.8,\n",
    "                 weight_intention = 0.8):\n",
    "        \"\"\" Constructor for worker class.\n",
    "            No default\n",
    "            Note that this class must link to parent Model object\n",
    "        \"\"\"\n",
    "        \n",
    "        # Set model and link and ID\n",
    "        self.model = model\n",
    "        self.worker_id = worker_id\n",
    "        self.crew_type = crew_type\n",
    "        \n",
    "        # Set Worker Parameters\n",
    "        self.safety_behavior = safety_behavior\n",
    "        self.intention = intention\n",
    "        self.perceived_behavioral_control = perceived_behavioral_control\n",
    "        self.attitude = attitude\n",
    "        self.perceived_workgroup_norm = perceived_workgroup_norm\n",
    "        self.perceived_project_norm = perceived_project_norm\n",
    "        \n",
    "        self.crew_identity = crew_identity\n",
    "        self.project_identity = project_identity\n",
    "        \n",
    "        self.norm_compliance = norm_compliance\n",
    "        self.internalization = internalization\n",
    "        self.memory_capa = memory_capa\n",
    "        \n",
    "        self.weight_attitude = weight_attitude\n",
    "        self.weight_intention = weight_intention\n",
    "        self.remembered_workgroup_behavior = []\n",
    "        self.remembered_project_behavior = []\n",
    "    \n",
    "    def behavior_taking(self):\n",
    "        \"\"\"\n",
    "        Decide the level of safety behavior\n",
    "        \"\"\"\n",
    "        self.safety_behavior = self.weight_intention*self.intention+(1-self.weight_intention)*self.perceived_behavioral_control\n",
    "        return \n",
    "    \n",
    "    def intention_forming(self):\n",
    "        \"\"\"\n",
    "        Forming the behavioral intention\n",
    "        \"\"\"\n",
    "        self.social_influence = self.norm_compliance*(self.crew_identity+self.project_identity)\n",
    "        self.intention=(self.weight_attitude*self.attitude+(1-self.weight_attitude)*self.perceived_behavioral_control)*(1-self.social_influence)+self.norm_compliance*(self.crew_identity*self.perceived_workgroup_norm+self.project_identity*self.perceived_project_norm)   \n",
    "        return \n",
    "    \n",
    "    def attitude_changeing(self):\n",
    "        \"\"\"\n",
    "        Intenralizing group norms as their own attitude\n",
    "        \"\"\"\n",
    "        self.internalize_influence = self.internalization*(self.crew_identity+self.project_identity)\n",
    "        self.attitude = self.attitude*(1-self.internalize_influence)+self.internalization*(self.crew_identity*self.perceived_workgroup_norm + self.project_identity*self.perceived_project_norm)\n",
    "        return\n",
    "\n",
    "    def get_position(self):\n",
    "        \"\"\"\n",
    "        Return position, calling through model\n",
    "        \"\"\"\n",
    "        return self.model.get_worker_position(self.worker_id)\n",
    "    \n",
    "    def get_neighbors(self):\n",
    "        \"\"\"\n",
    "        Return neighbors, calling through model\n",
    "        \"\"\"\n",
    "        return self.model.get_worker_neighbors(self.worker_id)"
   ]
  },
  {
   "cell_type": "markdown",
   "metadata": {},
   "source": [
    "### Manager Class\n",
    "Below, I will define manager class, The manager just give a feedback to construction workers based on strictness of safety rule.\n",
    "* constructor: class constructor, which initializes the worker when the model call Worker()."
   ]
  },
  {
   "cell_type": "code",
   "execution_count": 3,
   "metadata": {
    "collapsed": true
   },
   "outputs": [],
   "source": [
    "class Manager (object):\n",
    "    \"\"\" Manager class, which encapsulate the safety behavior of a worker\n",
    "    \"\"\"\n",
    "    def __init__(self, model, manager_id, safety_behavior=0.5):\n",
    "        \n",
    "        \"\"\" Constructor for manager class.\n",
    "            No default\n",
    "            Note that this class must link to parent Model object\n",
    "        \"\"\"\n",
    "        \n",
    "        # Set model and link and ID\n",
    "        self.model = model\n",
    "        self.manager_id = manager_id\n",
    "        self.safety_behavior = safety_behavior"
   ]
  },
  {
   "cell_type": "markdown",
   "metadata": {},
   "source": [
    "###Model Class\n",
    "Below, we will define our model class. This can be broken up as follows:\n",
    "\n",
    "* constructor: class constructor, which initializes the worker when the model call Model().\n",
    "* setup_space: method to create \"space\"\n",
    "* setup_worker: method to create \"worker\"\n",
    "* setup_manager: method to create our \"manager\"\n",
    "* get_neighbors: method to get neighboring agents based on position\n",
    "* get_person_neighbors: method to get neighboring agents based on agent ID\n",
    "* get_person_position: method to get position based on agent ID\n",
    "* move_person: method to move an agent to a new position\n",
    "* step_move: method to step through agent moves\n",
    "* step_interact: method to step through agent interaction\n",
    "* step: main step method to control each time step simulation"
   ]
  },
  {
   "cell_type": "code",
   "execution_count": 10,
   "metadata": {
    "collapsed": false
   },
   "outputs": [],
   "source": [
    "class Model (object):\n",
    "    \"\"\"\n",
    "    Model class, which encapsultes the entire behavior of single run in our model.\n",
    "    \"\"\"\n",
    "    def __init__(self,grid_size_for_crew = 5, overlaps_between_crew_grid =1,num_crews = 10,\n",
    "                num_workers = 10,num_managers = 20,min_project_identity = 0, max_project_identity=1.0,\n",
    "                min_crew_identity = 0, max_crew_identity = 1.0, min_attitude = 0.0, max_attitude = 1.0,\n",
    "                min_perceived_behavioral_control = 0.0,max_perceived_behavioral_control = 1.0, strictness_safety_rule = 0.8,\n",
    "                weight_attitude = 0.8, weight_intention = 0.8, norm_compliance = 0.25, internalization = 0.1, memory_capa = 50):\n",
    "        \"\"\"\n",
    "        Class constructor\n",
    "        \"\"\"\n",
    "        # Set the model parameters\n",
    "        self.grid_size_for_crew = grid_size_for_crew\n",
    "        self.overlaps_between_crew_grid = overlaps_between_crew_grid     \n",
    "        self.num_crews = num_crews\n",
    "        self.num_workers = num_workers\n",
    "        self.num_managers = num_managers\n",
    "        self.min_project_identity = min_project_identity\n",
    "        self.max_project_identity = max_project_identity\n",
    "        self.min_crew_identity = min_crew_identity\n",
    "        self.max_crew_identity = max_crew_identity\n",
    "        self.min_attitude = min_attitude\n",
    "        self.max_attitude = max_attitude\n",
    "        self.min_perceived_behavioral_control = min_perceived_behavioral_control\n",
    "        self.max_perceived_behavioral_control = max_perceived_behavioral_control\n",
    "        self.strictness_safety_rule = strictness_safety_rule\n",
    "                \n",
    "        # Set state variables\n",
    "        self.t = 0\n",
    "        self.space = numpy.array((0,0))\n",
    "        self.weight_attitude = weight_attitude\n",
    "        self.weight_intention = weight_intention\n",
    "        self.norm_compliance = norm_compliance\n",
    "        self.internalization = internalization\n",
    "        self.memory_capa = memory_capa\n",
    "        self.worker = []\n",
    "        self.manager = []\n",
    "        self.avg_safety_behavior = 0\n",
    "        self.avg_project_identity = 0\n",
    "        self.avg_crew_identity = 0\n",
    "        self.grid_y = self.grid_size_for_crew + (self.grid_size_for_crew - self.overlaps_between_crew_grid)*(self.num_crews-1)-1\n",
    "        self.grid_x = self.grid_size_for_crew     \n",
    "        \n",
    "        # Set history variable\n",
    "        self.history_space = []\n",
    "        self.history_safety_behavior = []\n",
    "        \n",
    "        # Call set up methods to initialize space, worker and manager.\n",
    "        self.setup_space()\n",
    "        self.setup_worker()\n",
    "        self.setup_manager()\n",
    "        \n",
    "    def setup_space(self):\n",
    "        \"\"\"\n",
    "        Method to setup the space.\n",
    "        \"\"\"\n",
    "        # Initialize a space with a NaN's\n",
    "\n",
    "        self.space = numpy.full((self.grid_y,self.grid_x),numpy.nan)\n",
    "        \n",
    "    def setup_worker(self):\n",
    "        \"\"\"\n",
    "         Method to setup worker\n",
    "        \"\"\"\n",
    "        # First, begin by creating all workers without placing them\n",
    "        for i in xrange(self.num_crews):\n",
    "            for j in xrange(self.num_workers):\n",
    "                self.worker.append(Worker(model = self,\n",
    "                                            worker_id = j+i*self.num_workers,\n",
    "                                            crew_type = i,\n",
    "                                            safety_behavior = 0,\n",
    "                                            intention = 0,\n",
    "                                            perceived_behavioral_control = numpy.random.uniform (self.min_perceived_behavioral_control, self.max_perceived_behavioral_control),\n",
    "                                            attitude = numpy.random.uniform (self.min_attitude, self.max_attitude),\n",
    "                                            perceived_workgroup_norm = 0,\n",
    "                                            perceived_project_norm = 0,\n",
    "                                            crew_identity = numpy.random.uniform (self.min_crew_identity, self.max_crew_identity),\n",
    "                                            project_identity = numpy.random.uniform (self.min_project_identity, self.max_project_identity),\n",
    "                                            norm_compliance = self.norm_compliance,\n",
    "                                            internalization = self.internalization,\n",
    "                                            memory_capa = self.memory_capa,\n",
    "                                            weight_attitude = self.weight_attitude,\n",
    "                                            weight_intention = self.weight_intention))\n",
    "                    \n",
    "        # Second, once created, place them into the space\n",
    "        for worker in self.worker:\n",
    "            # Loop until unique\n",
    "            is_occupied = True\n",
    "            while is_occupied:\n",
    "                # Sample the location\n",
    "                x_start = worker.crew_type*(self.grid_size_for_crew - self.overlaps_between_crew_grid)\n",
    "                random_x = numpy.random.randint(x_start, x_start+self.grid_size_for_crew-1)\n",
    "                random_y = numpy.random.randint(0, self.grid_x)\n",
    "                        \n",
    "                # Check if unique\n",
    "                if numpy.isnan(self.space[random_x, random_y]):\n",
    "                    is_occupied = False\n",
    "                else:\n",
    "                    is_occupied = True\n",
    "                            \n",
    "            # Place the worker there by setting their ID\n",
    "            self.space[random_x, random_y] = worker.worker_id\n",
    "            \n",
    "    def setup_manager(self):\n",
    "        \"\"\"\n",
    "         Method to setup manager\n",
    "        \"\"\"\n",
    "        # First, begin by creating all managers without placing them\n",
    "        \n",
    "        for i in xrange(self.num_managers):\n",
    "            self.manager.append(Manager(model = self,\n",
    "                                       manager_id = 100 + i,\n",
    "                                       safety_behavior = self.strictness_safety_rule))\n",
    "            \n",
    "        # Second, once created, place them into the space\n",
    "        for manager in self.manager:\n",
    "        # Loop until unique\n",
    "            is_occupied = True\n",
    "            while is_occupied:\n",
    "                # Sample the location\n",
    "                random_x = numpy.random.randint(0, self.grid_y)\n",
    "                random_y = numpy.random.randint(0, self.grid_x)\n",
    "                        \n",
    "                # Check if unique\n",
    "                if numpy.isnan(self.space[random_x, random_y]):\n",
    "                    is_occupied = False\n",
    "                else:\n",
    "                    is_occupied = True\n",
    "                            \n",
    "            # Place the worker there by setting their ID\n",
    "            self.space[random_x, random_y] = manager.manager_id\n",
    "          "
   ]
  },
  {
   "cell_type": "code",
   "execution_count": 12,
   "metadata": {
    "collapsed": false
   },
   "outputs": [
    {
     "name": "stdout",
     "output_type": "stream",
     "text": [
      "5\n",
      "1\n",
      "101\n",
      "[[   0.   nan    6.    2.    3.]\n",
      " [   1.    9.    5.   nan   nan]\n",
      " [  nan  102.   nan   nan    8.]\n",
      " [  nan    7.    4.   nan   nan]\n",
      " [ 103.   17.  118.  101.   nan]\n",
      " [  nan   16.  117.  106.   18.]\n",
      " [  12.   nan   15.   19.  109.]\n",
      " [  11.   10.   nan   13.   14.]\n",
      " [  28.   24.   29.   nan   nan]\n",
      " [  26.   nan  105.   23.   nan]\n",
      " [  20.   25.   21.   27.   nan]\n",
      " [ 119.   22.   nan   nan   nan]\n",
      " [ 116.   30.   36.   37.   32.]\n",
      " [  35.   nan  114.   nan   nan]\n",
      " [  nan   34.   nan   39.   31.]\n",
      " [  nan   nan   nan   33.   38.]\n",
      " [  nan   44.   43.   nan   47.]\n",
      " [  nan   nan   nan   46.   45.]\n",
      " [  41.   48.   40.   nan   nan]\n",
      " [  nan   nan  113.   49.   42.]\n",
      " [  54.   58.   52.  108.   51.]\n",
      " [  nan   nan   nan   nan   59.]\n",
      " [  55.   56.   nan   50.   53.]\n",
      " [  57.   nan   nan   nan   nan]\n",
      " [  62.   nan  112.   68.   61.]\n",
      " [  60.   nan   67.   63.   nan]\n",
      " [  64.   65.   nan   nan   nan]\n",
      " [  69.   66.   nan   nan   nan]\n",
      " [  75.   70.   nan   77.   nan]\n",
      " [  nan   nan   74.   79.   73.]\n",
      " [  nan   78.   71.   72.   76.]\n",
      " [ 104.   nan   nan  107.   nan]\n",
      " [  nan   88.   81.   84.   85.]\n",
      " [  nan  111.   82.   nan   nan]\n",
      " [  nan   nan   89.   83.   80.]\n",
      " [  nan   nan   nan   86.   87.]\n",
      " [  nan   nan   90.  100.   94.]\n",
      " [  99.   nan   95.   98.   91.]\n",
      " [  93.   97.   96.   92.   nan]\n",
      " [ 110.  115.   nan   nan   nan]]\n"
     ]
    }
   ],
   "source": [
    "m = Model()\n",
    "print m.grid_size_for_crew\n",
    "print m.worker[12].crew_type\n",
    "print m.manager[1].manager_id\n",
    "print m.space"
   ]
  },
  {
   "cell_type": "code",
   "execution_count": null,
   "metadata": {
    "collapsed": false
   },
   "outputs": [],
   "source": []
  },
  {
   "cell_type": "code",
   "execution_count": null,
   "metadata": {
    "collapsed": true
   },
   "outputs": [],
   "source": []
  },
  {
   "cell_type": "code",
   "execution_count": null,
   "metadata": {
    "collapsed": true
   },
   "outputs": [],
   "source": []
  },
  {
   "cell_type": "code",
   "execution_count": null,
   "metadata": {
    "collapsed": true
   },
   "outputs": [],
   "source": []
  },
  {
   "cell_type": "code",
   "execution_count": null,
   "metadata": {
    "collapsed": true
   },
   "outputs": [],
   "source": []
  },
  {
   "cell_type": "code",
   "execution_count": null,
   "metadata": {
    "collapsed": true
   },
   "outputs": [],
   "source": []
  },
  {
   "cell_type": "code",
   "execution_count": null,
   "metadata": {
    "collapsed": true
   },
   "outputs": [],
   "source": []
  }
 ],
 "metadata": {
  "kernelspec": {
   "display_name": "Python 2",
   "name": "python2"
  },
  "language_info": {
   "codemirror_mode": {
    "name": "ipython",
    "version": 2
   },
   "file_extension": ".py",
   "mimetype": "text/x-python",
   "name": "python",
   "nbconvert_exporter": "python",
   "pygments_lexer": "ipython2",
   "version": "2.7.8"
  }
 },
 "nbformat": 4,
 "nbformat_minor": 0
}
